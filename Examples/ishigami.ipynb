{
 "cells": [
  {
   "cell_type": "code",
   "execution_count": 1,
   "metadata": {
    "tags": []
   },
   "outputs": [],
   "source": [
    "import pandas as pd\n",
    "import numpy as np\n",
    "\n",
    "import math\n",
    "\n",
    "from scipy.spatial import distance \n",
    "from shapleyx import rshdmr\n",
    "import spotpy as sp\n",
    "\n",
    "from scipy.stats import qmc\n",
    "\n",
    "import matplotlib.pyplot as plt\n",
    "\n",
    "from itertools import combinations"
   ]
  },
  {
   "cell_type": "code",
   "execution_count": 2,
   "metadata": {
    "tags": []
   },
   "outputs": [],
   "source": [
    "def get_column_labels(n):\n",
    "    column_labels = []\n",
    "    for column_index in range(1,n+1):\n",
    "        column_labels.append('X' + str(column_index)) \n",
    "    return column_labels\n",
    "\n",
    "def ishigami(m):\n",
    "    n=3\n",
    "    a=7\n",
    "    b=0.1\n",
    "    #a=2\n",
    "    #b=1\n",
    "    sampler = qmc.Sobol(d=n, scramble=True, seed=123)\n",
    "    S = sampler.random_base2(m=m)\n",
    "    S=S*2*np.pi - np.pi\n",
    "    Y = np.sin(S[  : ,0]) + a*(np.sin(S[  : ,1])**2) + b*S[  : ,2]**4 * np.sin(S[  : ,0])\n",
    "    data = pd.DataFrame(S, columns=get_column_labels(n) ) \n",
    "    data['Y'] = Y\n",
    "    return data\n",
    "\n",
    "    \n",
    "    "
   ]
  },
  {
   "cell_type": "code",
   "execution_count": 3,
   "metadata": {
    "tags": []
   },
   "outputs": [
    {
     "name": "stdout",
     "output_type": "stream",
     "text": [
      "256 samples generated\n"
     ]
    }
   ],
   "source": [
    "# m = 6 -> 64 samples\n",
    "# m = 7 -> 128 samples\n",
    "# m = 8 -> 256 samples\n",
    "# m = 9 -> 512 samples\n",
    "# m = 10 -> 1024 samples\n",
    "# m = 11 -> 2048 samples \n",
    "# m = 12 -> 4096 samples\n",
    "# m = 13 -> 8192 samples\n",
    "\n",
    "m=8 \n",
    "dataframe = ishigami(m)\n",
    "print(len(dataframe), 'samples generated')"
   ]
  },
  {
   "cell_type": "code",
   "execution_count": 4,
   "metadata": {},
   "outputs": [
    {
     "data": {
      "text/html": [
       "<div>\n",
       "<style scoped>\n",
       "    .dataframe tbody tr th:only-of-type {\n",
       "        vertical-align: middle;\n",
       "    }\n",
       "\n",
       "    .dataframe tbody tr th {\n",
       "        vertical-align: top;\n",
       "    }\n",
       "\n",
       "    .dataframe thead th {\n",
       "        text-align: right;\n",
       "    }\n",
       "</style>\n",
       "<table border=\"1\" class=\"dataframe\">\n",
       "  <thead>\n",
       "    <tr style=\"text-align: right;\">\n",
       "      <th></th>\n",
       "      <th>X1</th>\n",
       "      <th>X2</th>\n",
       "      <th>X3</th>\n",
       "      <th>Y</th>\n",
       "    </tr>\n",
       "  </thead>\n",
       "  <tbody>\n",
       "    <tr>\n",
       "      <th>0</th>\n",
       "      <td>0.607133</td>\n",
       "      <td>0.982525</td>\n",
       "      <td>-0.234066</td>\n",
       "      <td>5.415103</td>\n",
       "    </tr>\n",
       "    <tr>\n",
       "      <th>1</th>\n",
       "      <td>-1.743749</td>\n",
       "      <td>-2.409093</td>\n",
       "      <td>1.878209</td>\n",
       "      <td>0.919442</td>\n",
       "    </tr>\n",
       "    <tr>\n",
       "      <th>2</th>\n",
       "      <td>-0.632661</td>\n",
       "      <td>2.509733</td>\n",
       "      <td>-2.727369</td>\n",
       "      <td>-1.420984</td>\n",
       "    </tr>\n",
       "    <tr>\n",
       "      <th>3</th>\n",
       "      <td>1.728958</td>\n",
       "      <td>-1.090534</td>\n",
       "      <td>1.032413</td>\n",
       "      <td>6.605523</td>\n",
       "    </tr>\n",
       "    <tr>\n",
       "      <th>4</th>\n",
       "      <td>2.709205</td>\n",
       "      <td>1.710561</td>\n",
       "      <td>3.031147</td>\n",
       "      <td>10.820581</td>\n",
       "    </tr>\n",
       "    <tr>\n",
       "      <th>...</th>\n",
       "      <td>...</td>\n",
       "      <td>...</td>\n",
       "      <td>...</td>\n",
       "      <td>...</td>\n",
       "    </tr>\n",
       "    <tr>\n",
       "      <th>251</th>\n",
       "      <td>2.735254</td>\n",
       "      <td>-2.982555</td>\n",
       "      <td>-2.262730</td>\n",
       "      <td>1.606913</td>\n",
       "    </tr>\n",
       "    <tr>\n",
       "      <th>252</th>\n",
       "      <td>1.751999</td>\n",
       "      <td>0.401357</td>\n",
       "      <td>-0.334536</td>\n",
       "      <td>2.053208</td>\n",
       "    </tr>\n",
       "    <tr>\n",
       "      <th>253</th>\n",
       "      <td>-0.609502</td>\n",
       "      <td>-2.220206</td>\n",
       "      <td>1.783863</td>\n",
       "      <td>3.288084</td>\n",
       "    </tr>\n",
       "    <tr>\n",
       "      <th>254</th>\n",
       "      <td>-1.720386</td>\n",
       "      <td>2.308941</td>\n",
       "      <td>-2.631478</td>\n",
       "      <td>-1.900112</td>\n",
       "    </tr>\n",
       "    <tr>\n",
       "      <th>255</th>\n",
       "      <td>0.630378</td>\n",
       "      <td>-0.496720</td>\n",
       "      <td>1.134406</td>\n",
       "      <td>2.276731</td>\n",
       "    </tr>\n",
       "  </tbody>\n",
       "</table>\n",
       "<p>256 rows × 4 columns</p>\n",
       "</div>"
      ],
      "text/plain": [
       "           X1        X2        X3          Y\n",
       "0    0.607133  0.982525 -0.234066   5.415103\n",
       "1   -1.743749 -2.409093  1.878209   0.919442\n",
       "2   -0.632661  2.509733 -2.727369  -1.420984\n",
       "3    1.728958 -1.090534  1.032413   6.605523\n",
       "4    2.709205  1.710561  3.031147  10.820581\n",
       "..        ...       ...       ...        ...\n",
       "251  2.735254 -2.982555 -2.262730   1.606913\n",
       "252  1.751999  0.401357 -0.334536   2.053208\n",
       "253 -0.609502 -2.220206  1.783863   3.288084\n",
       "254 -1.720386  2.308941 -2.631478  -1.900112\n",
       "255  0.630378 -0.496720  1.134406   2.276731\n",
       "\n",
       "[256 rows x 4 columns]"
      ]
     },
     "execution_count": 4,
     "metadata": {},
     "output_type": "execute_result"
    }
   ],
   "source": [
    "dataframe\n"
   ]
  },
  {
   "cell_type": "code",
   "execution_count": 5,
   "metadata": {
    "tags": []
   },
   "outputs": [
    {
     "name": "stdout",
     "output_type": "stream",
     "text": [
      "Found a DataFrame\n",
      "\n",
      "============================================================\n",
      "Transforming data to unit hypercube\n",
      "============================================================\n",
      "\n",
      "Feature: X1, Min Value: -3.1390, Max Value: 3.1305\n",
      "Feature: X2, Min Value: -3.1183, Max Value: 3.1206\n",
      "Feature: X3, Min Value: -3.1233, Max Value: 3.1332\n",
      "\n",
      "============================================================\n",
      "Building basis functions\n",
      "============================================================\n",
      "\n",
      "Basis functions of 1 order : 30\n",
      "Basis functions of 2 order : 75\n",
      "Total basis functions in basis set : 105\n",
      "Total number of features in basis set is 105\n",
      "\n",
      "============================================================\n",
      "Running regression analysis\n",
      "============================================================\n",
      "\n",
      "running ARD\n",
      "Iteration: 0     Mean CV Score: 0.4276, Percentage Change: inf%\n",
      "Iteration: 1     Mean CV Score: 0.5726, Percentage Change: 33.90%\n",
      "Iteration: 2     Mean CV Score: 0.7046, Percentage Change: 23.05%\n",
      "Iteration: 3     Mean CV Score: 0.8406, Percentage Change: 19.31%\n",
      "Iteration: 4     Mean CV Score: 0.9396, Percentage Change: 11.78%\n",
      "Iteration: 5     Mean CV Score: 0.9640, Percentage Change: 2.59%\n",
      "Iteration: 6     Mean CV Score: 0.9772, Percentage Change: 1.37%\n",
      "Iteration: 7     Mean CV Score: 0.9851, Percentage Change: 0.81%\n",
      "Iteration: 8     Mean CV Score: 0.9932, Percentage Change: 0.83%\n",
      "Iteration: 9     Mean CV Score: 0.9968, Percentage Change: 0.37%\n",
      "Iteration: 10    Mean CV Score: 0.9995, Percentage Change: 0.27%\n",
      "Iteration: 11    Mean CV Score: 0.9998, Percentage Change: 0.02%\n",
      "Finished ARD iterations at iteration 12.\n",
      "Number of features in the model: 13\n",
      "Fit Execution Time : 0.176233\n",
      "--\n",
      " \n",
      " Model complete \n",
      " \n",
      "\n",
      "============================================================\n",
      "RS-HDMR model performance statistics\n",
      "============================================================\n",
      "\n",
      "variance of data        : 13.927\n",
      "sum of coefficients^2   : 13.595\n",
      "variance ratio          : 0.976\n",
      "===============================\n",
      "mae error on test set   : 0.044\n",
      "mse error on test set   : 0.003\n",
      "explained variance score: 1.000\n",
      "===============================\n",
      "slope     :  0.9997976561183539\n",
      "r value   :  0.999908674798111\n",
      "r^2       :  0.9998173579365144\n",
      "p value   :  0.0\n",
      "std error :  0.0008478818180900736\n",
      "\n"
     ]
    },
    {
     "data": {
      "image/png": "[encoded data removed]",
      "text/plain": [
       "<Figure size 432x288 with 1 Axes>"
      ]
     },
     "metadata": {
      "needs_background": "light"
     },
     "output_type": "display_data"
    },
    {
     "name": "stdout",
     "output_type": "stream",
     "text": [
      "\n",
      "============================================================\n",
      "Running bootstrap resampling 1000 samples for 95.0% CI\n",
      "============================================================\n",
      "\n",
      " |████████████████████████████████████████████████████████████████████████████████████████████████████| 100.0% \n",
      "\n",
      "============================================================\n",
      "Completed bootstrap resampling\n",
      "============================================================\n",
      "\n",
      "\n",
      "============================================================\n",
      "                  Completed all analysis\n",
      "                 ------------------------\n",
      "\n",
      "Keep silence for the most part, and speak only when you\n",
      "must, and then briefly.  Epictetus\n",
      "============================================================\n",
      "\n"
     ]
    }
   ],
   "source": [
    "\n",
    "model = rshdmr(dataframe,\n",
    "               polys = [10, 5],\n",
    "               n_iter = 250,\n",
    "               method = 'ard_cv'\n",
    "              )\n",
    "               \n",
    "sob, shap, total = model.run_all() "
   ]
  },
  {
   "cell_type": "code",
   "execution_count": 6,
   "metadata": {
    "tags": []
   },
   "outputs": [],
   "source": [
    "all_results =pd.DataFrame()"
   ]
  },
  {
   "cell_type": "code",
   "execution_count": 9,
   "metadata": {},
   "outputs": [
    {
     "name": "stdout",
     "output_type": "stream",
     "text": [
      "e:\\my drive\\work projects\\publications\\shapley\\development\\shapleyx_package\\shapleyx\\__init__.py\n"
     ]
    }
   ],
   "source": [
    "import shapleyx\n",
    "\n",
    "print(shapleyx.__file__)"
   ]
  },
  {
   "cell_type": "code",
   "execution_count": 7,
   "metadata": {},
   "outputs": [
    {
     "name": "stdout",
     "output_type": "stream",
     "text": [
      "For the Kolmogorov–Smirnov test with alpha = 0.050, the critical value is 0.074\n",
      "Number of features: 3\n",
      "Feature 1: Median KS Statistic = 0.217, Std Dev = 0.042\n",
      "Feature 2: Median KS Statistic = 0.415, Std Dev = 0.095\n",
      "Feature 3: Median KS Statistic = 0.091, Std Dev = 0.055\n"
     ]
    }
   ],
   "source": [
    "result3 = model.get_pawnx(1000, 500, 100)\n",
    "all_results['pawn']= result3['median']"
   ]
  },
  {
   "cell_type": "code",
   "execution_count": 15,
   "metadata": {},
   "outputs": [
    {
     "data": {
      "text/html": [
       "<div>\n",
       "<style scoped>\n",
       "    .dataframe tbody tr th:only-of-type {\n",
       "        vertical-align: middle;\n",
       "    }\n",
       "\n",
       "    .dataframe tbody tr th {\n",
       "        vertical-align: top;\n",
       "    }\n",
       "\n",
       "    .dataframe thead th {\n",
       "        text-align: right;\n",
       "    }\n",
       "</style>\n",
       "<table border=\"1\" class=\"dataframe\">\n",
       "  <thead>\n",
       "    <tr style=\"text-align: right;\">\n",
       "      <th></th>\n",
       "      <th>pawn</th>\n",
       "      <th>HX</th>\n",
       "      <th>deltaX</th>\n",
       "      <th>total</th>\n",
       "      <th>shap</th>\n",
       "    </tr>\n",
       "  </thead>\n",
       "  <tbody>\n",
       "    <tr>\n",
       "      <th>X1</th>\n",
       "      <td>0.217</td>\n",
       "      <td>0.487544</td>\n",
       "      <td>NaN</td>\n",
       "      <td>NaN</td>\n",
       "      <td>NaN</td>\n",
       "    </tr>\n",
       "    <tr>\n",
       "      <th>X2</th>\n",
       "      <td>0.4155</td>\n",
       "      <td>0.225028</td>\n",
       "      <td>NaN</td>\n",
       "      <td>NaN</td>\n",
       "      <td>NaN</td>\n",
       "    </tr>\n",
       "    <tr>\n",
       "      <th>X3</th>\n",
       "      <td>0.091</td>\n",
       "      <td>0.287428</td>\n",
       "      <td>NaN</td>\n",
       "      <td>NaN</td>\n",
       "      <td>NaN</td>\n",
       "    </tr>\n",
       "  </tbody>\n",
       "</table>\n",
       "</div>"
      ],
      "text/plain": [
       "      pawn        HX  deltaX  total  shap\n",
       "X1   0.217  0.487544     NaN    NaN   NaN\n",
       "X2  0.4155  0.225028     NaN    NaN   NaN\n",
       "X3   0.091  0.287428     NaN    NaN   NaN"
      ]
     },
     "execution_count": 15,
     "metadata": {},
     "output_type": "execute_result"
    }
   ],
   "source": [
    "all_results['HX']= result1['delta_norm'].values\n",
    "all_results"
   ]
  },
  {
   "cell_type": "code",
   "execution_count": 16,
   "metadata": {},
   "outputs": [
    {
     "name": "stdout",
     "output_type": "stream",
     "text": [
      "Number of features: 3\n",
      "Feature X1: Expectation value of delta Statistic = 1.187\n",
      "Feature X2: Expectation value of delta Statistic = 0.577\n",
      "Feature X3: Expectation value of delta Statistic = 0.726\n",
      "Number of features: 3\n",
      "Feature X1: Expectation value of delta Statistic = 0.448\n",
      "Feature X2: Expectation value of delta Statistic = 0.762\n",
      "Feature X3: Expectation value of delta Statistic = 0.339\n"
     ]
    }
   ],
   "source": [
    "result1 = model.get_hx(1000, 500)\n",
    "all_results['HX']= result1['delta_norm'].values\n",
    "\n",
    "result2 = model.get_deltax(1000, 500)\n",
    "all_results['deltaX']= result2['delta_norm'].values"
   ]
  },
  {
   "cell_type": "code",
   "execution_count": 17,
   "metadata": {},
   "outputs": [],
   "source": [
    "all_results['total']= total['total'].values"
   ]
  },
  {
   "cell_type": "code",
   "execution_count": 18,
   "metadata": {},
   "outputs": [],
   "source": [
    "all_results['shap']= shap['scaled effect'].values"
   ]
  },
  {
   "cell_type": "code",
   "execution_count": 19,
   "metadata": {},
   "outputs": [
    {
     "data": {
      "text/html": [
       "<div>\n",
       "<style scoped>\n",
       "    .dataframe tbody tr th:only-of-type {\n",
       "        vertical-align: middle;\n",
       "    }\n",
       "\n",
       "    .dataframe tbody tr th {\n",
       "        vertical-align: top;\n",
       "    }\n",
       "\n",
       "    .dataframe thead th {\n",
       "        text-align: right;\n",
       "    }\n",
       "</style>\n",
       "<table border=\"1\" class=\"dataframe\">\n",
       "  <thead>\n",
       "    <tr style=\"text-align: right;\">\n",
       "      <th></th>\n",
       "      <th>pawn</th>\n",
       "      <th>HX</th>\n",
       "      <th>deltaX</th>\n",
       "      <th>total</th>\n",
       "      <th>shap</th>\n",
       "    </tr>\n",
       "  </thead>\n",
       "  <tbody>\n",
       "    <tr>\n",
       "      <th>X1</th>\n",
       "      <td>0.217</td>\n",
       "      <td>0.476658</td>\n",
       "      <td>0.289128</td>\n",
       "      <td>0.553458</td>\n",
       "      <td>0.433329</td>\n",
       "    </tr>\n",
       "    <tr>\n",
       "      <th>X2</th>\n",
       "      <td>0.4155</td>\n",
       "      <td>0.231620</td>\n",
       "      <td>0.492139</td>\n",
       "      <td>0.446360</td>\n",
       "      <td>0.446441</td>\n",
       "    </tr>\n",
       "    <tr>\n",
       "      <th>X3</th>\n",
       "      <td>0.091</td>\n",
       "      <td>0.291722</td>\n",
       "      <td>0.218733</td>\n",
       "      <td>0.240415</td>\n",
       "      <td>0.120230</td>\n",
       "    </tr>\n",
       "  </tbody>\n",
       "</table>\n",
       "</div>"
      ],
      "text/plain": [
       "      pawn        HX    deltaX     total      shap\n",
       "X1   0.217  0.476658  0.289128  0.553458  0.433329\n",
       "X2  0.4155  0.231620  0.492139  0.446360  0.446441\n",
       "X3   0.091  0.291722  0.218733  0.240415  0.120230"
      ]
     },
     "execution_count": 19,
     "metadata": {},
     "output_type": "execute_result"
    }
   ],
   "source": [
    "all_results"
   ]
  },
  {
   "cell_type": "code",
   "execution_count": 20,
   "metadata": {},
   "outputs": [
    {
     "data": {
      "text/html": [
       "<div>\n",
       "<style scoped>\n",
       "    .dataframe tbody tr th:only-of-type {\n",
       "        vertical-align: middle;\n",
       "    }\n",
       "\n",
       "    .dataframe tbody tr th {\n",
       "        vertical-align: top;\n",
       "    }\n",
       "\n",
       "    .dataframe thead th {\n",
       "        text-align: right;\n",
       "    }\n",
       "</style>\n",
       "<table border=\"1\" class=\"dataframe\">\n",
       "  <thead>\n",
       "    <tr style=\"text-align: right;\">\n",
       "      <th></th>\n",
       "      <th>minimum</th>\n",
       "      <th>mean</th>\n",
       "      <th>median</th>\n",
       "      <th>maximum</th>\n",
       "      <th>CV</th>\n",
       "      <th>stdev</th>\n",
       "    </tr>\n",
       "  </thead>\n",
       "  <tbody>\n",
       "    <tr>\n",
       "      <th>X1</th>\n",
       "      <td>0.173678</td>\n",
       "      <td>0.267370</td>\n",
       "      <td>0.283996</td>\n",
       "      <td>0.360625</td>\n",
       "      <td>0.264597</td>\n",
       "      <td>0.070745</td>\n",
       "    </tr>\n",
       "    <tr>\n",
       "      <th>X2</th>\n",
       "      <td>0.192656</td>\n",
       "      <td>0.377558</td>\n",
       "      <td>0.416767</td>\n",
       "      <td>0.606671</td>\n",
       "      <td>0.308789</td>\n",
       "      <td>0.116586</td>\n",
       "    </tr>\n",
       "    <tr>\n",
       "      <th>X3</th>\n",
       "      <td>0.129808</td>\n",
       "      <td>0.198563</td>\n",
       "      <td>0.192969</td>\n",
       "      <td>0.260216</td>\n",
       "      <td>0.212425</td>\n",
       "      <td>0.042180</td>\n",
       "    </tr>\n",
       "  </tbody>\n",
       "</table>\n",
       "</div>"
      ],
      "text/plain": [
       "     minimum      mean    median   maximum        CV     stdev\n",
       "X1  0.173678  0.267370  0.283996  0.360625  0.264597  0.070745\n",
       "X2  0.192656  0.377558  0.416767  0.606671  0.308789  0.116586\n",
       "X3  0.129808  0.198563  0.192969  0.260216  0.212425  0.042180"
      ]
     },
     "execution_count": 20,
     "metadata": {},
     "output_type": "execute_result"
    }
   ],
   "source": [
    "model.get_pawn()"
   ]
  },
  {
   "cell_type": "code",
   "execution_count": 22,
   "metadata": {},
   "outputs": [
    {
     "data": {
      "text/html": [
       "<div>\n",
       "<style scoped>\n",
       "    .dataframe tbody tr th:only-of-type {\n",
       "        vertical-align: middle;\n",
       "    }\n",
       "\n",
       "    .dataframe tbody tr th {\n",
       "        vertical-align: top;\n",
       "    }\n",
       "\n",
       "    .dataframe thead th {\n",
       "        text-align: right;\n",
       "    }\n",
       "</style>\n",
       "<table border=\"1\" class=\"dataframe\">\n",
       "  <thead>\n",
       "    <tr style=\"text-align: right;\">\n",
       "      <th></th>\n",
       "      <th>derived_labels</th>\n",
       "      <th>index</th>\n",
       "      <th>lower</th>\n",
       "      <th>upper</th>\n",
       "    </tr>\n",
       "  </thead>\n",
       "  <tbody>\n",
       "    <tr>\n",
       "      <th>0</th>\n",
       "      <td>X1</td>\n",
       "      <td>0.313042</td>\n",
       "      <td>0.311407</td>\n",
       "      <td>0.314512</td>\n",
       "    </tr>\n",
       "    <tr>\n",
       "      <th>1</th>\n",
       "      <td>X1_X3</td>\n",
       "      <td>0.240415</td>\n",
       "      <td>0.238904</td>\n",
       "      <td>0.241816</td>\n",
       "    </tr>\n",
       "    <tr>\n",
       "      <th>2</th>\n",
       "      <td>X2</td>\n",
       "      <td>0.446360</td>\n",
       "      <td>0.444705</td>\n",
       "      <td>0.448242</td>\n",
       "    </tr>\n",
       "  </tbody>\n",
       "</table>\n",
       "</div>"
      ],
      "text/plain": [
       "  derived_labels     index     lower     upper\n",
       "0             X1  0.313042  0.311407  0.314512\n",
       "1          X1_X3  0.240415  0.238904  0.241816\n",
       "2             X2  0.446360  0.444705  0.448242"
      ]
     },
     "execution_count": 22,
     "metadata": {},
     "output_type": "execute_result"
    }
   ],
   "source": [
    "sob"
   ]
  },
  {
   "cell_type": "code",
   "execution_count": 32,
   "metadata": {},
   "outputs": [
    {
     "name": "stdout",
     "output_type": "stream",
     "text": [
      "KL(P || Q) = 0.1355\n",
      "KL(Q || P) = 0.2424  (asymmetric!)\n"
     ]
    }
   ],
   "source": [
    "import numpy as np\n",
    "from scipy.stats import gaussian_kde\n",
    "\n",
    "def kl_divergence_kde(samples_p, samples_q, epsilon=1e-10, num_points=1000):\n",
    "    \"\"\"\n",
    "    Compute KL(P || Q) where P and Q are KDEs estimated from samples_p and samples_q.\n",
    "    \n",
    "    Args:\n",
    "        samples_p: 1D array of samples from distribution P\n",
    "        samples_q: 1D array of samples from distribution Q\n",
    "        epsilon: Small value to avoid numerical issues\n",
    "        num_points: Number of evaluation points for numerical integration\n",
    "        \n",
    "    Returns:\n",
    "        KL divergence value\n",
    "    \"\"\"\n",
    "    # Fit KDEs to the samples\n",
    "    kde_p = gaussian_kde(samples_p)\n",
    "    kde_q = gaussian_kde(samples_q)\n",
    "    \n",
    "    # Define evaluation points spanning both datasets\n",
    "    min_val = min(np.min(samples_p), np.min(samples_q)) - 1.0\n",
    "    max_val = max(np.max(samples_p), np.max(samples_q)) + 1.0\n",
    "    grid_points = np.linspace(min_val, max_val, num_points)\n",
    "    \n",
    "    # Evaluate KDEs (add epsilon to avoid zeros)\n",
    "    p = kde_p(grid_points) + epsilon\n",
    "    q = kde_q(grid_points) + epsilon\n",
    "    \n",
    "    # Normalize to ensure valid probability distributions\n",
    "    p /= np.trapz(p, grid_points)\n",
    "    q /= np.trapz(q, grid_points)\n",
    "    \n",
    "    # Compute KL divergence: ∫ p(x) * log(p(x)/q(x)) dx\n",
    "    kl_integrand = p * (np.log(p) - np.log(q))\n",
    "    kl = np.trapz(kl_integrand, grid_points)\n",
    "    \n",
    "    return kl\n",
    "\n",
    "# Example usage\n",
    "if __name__ == \"__main__\":\n",
    "    # Generate sample data\n",
    "    np.random.seed(0)\n",
    "    samples_p = np.random.normal(loc=0, scale=1, size=1000)  # P ~ N(0,1)\n",
    "    samples_q = np.random.normal(loc=0.5, scale=1.2, size=1000)  # Q ~ N(0.5,1.2)\n",
    "    \n",
    "    # Compute KL divergence\n",
    "    kl_pq = kl_divergence_kde(samples_p, samples_q)\n",
    "    kl_qp = kl_divergence_kde(samples_q, samples_p)  # Asymmetric result\n",
    "    \n",
    "    print(f\"KL(P || Q) = {kl_pq:.4f}\")\n",
    "    print(f\"KL(Q || P) = {kl_qp:.4f}  (asymmetric!)\")"
   ]
  },
  {
   "cell_type": "code",
   "execution_count": null,
   "metadata": {},
   "outputs": [],
   "source": []
  },
  {
   "cell_type": "code",
   "execution_count": null,
   "metadata": {},
   "outputs": [],
   "source": []
  }
 ],
 "metadata": {
  "kernelspec": {
   "display_name": "base",
   "language": "python",
   "name": "python3"
  },
  "language_info": {
   "codemirror_mode": {
    "name": "ipython",
    "version": 3
   },
   "file_extension": ".py",
   "mimetype": "text/x-python",
   "name": "python",
   "nbconvert_exporter": "python",
   "pygments_lexer": "ipython3",
   "version": "3.9.12"
  }
 },
 "nbformat": 4,
 "nbformat_minor": 4
}
