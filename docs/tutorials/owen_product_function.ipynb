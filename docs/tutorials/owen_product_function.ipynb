{
 "cells": [
  {
   "cell_type": "code",
   "execution_count": null,
   "metadata": {
    "tags": []
   },
   "outputs": [],
   "source": [
    "import pandas as pd\n",
    "import numpy as np\n",
    "\n",
    "import math\n",
    "\n",
    "from scipy.spatial import distance \n",
    "from shapleyx import rshdmr\n",
    "\n",
    "\n",
    "from scipy.stats import qmc\n",
    "\n",
    "import matplotlib.pyplot as plt\n",
    "\n",
    "from itertools import combinations"
   ]
  },
  {
   "cell_type": "code",
   "execution_count": 13,
   "metadata": {},
   "outputs": [
    {
     "ename": "AttributeError",
     "evalue": "module 'shapleyx' has no attribute '__version__'",
     "output_type": "error",
     "traceback": [
      "\u001b[1;31m---------------------------------------------------------------------------\u001b[0m",
      "\u001b[1;31mAttributeError\u001b[0m                            Traceback (most recent call last)",
      "Cell \u001b[1;32mIn[13], line 1\u001b[0m\n\u001b[1;32m----> 1\u001b[0m shapleyx\u001b[38;5;241m.\u001b[39m__version__\n",
      "\u001b[1;31mAttributeError\u001b[0m: module 'shapleyx' has no attribute '__version__'"
     ]
    }
   ],
   "source": [
    "shapleyx.__version__"
   ]
  },
  {
   "cell_type": "markdown",
   "metadata": {},
   "source": [
    "### Case Study: High-Dimensional Product Function  \n",
    "To validate the proposed RS-HDMR method for estimating Sobol indices and Shapley effects, we apply it to the product function studied by Owen [1], a benchmark designed to stress-test sensitivity estimators in high-dimensional settings. The function is defined as:  \n",
    "\n",
    "$$\n",
    "f(\\mathbf{x}) = \\prod_{j=1}^{d} \\left( \\mu_j + \\tau_j g_j(x_j) \\right), \\quad x_j \\in [0, 1],\n",
    "$$  \n",
    "\n",
    "where $g_j(x_j) = \\sqrt{12}(x_j - 1/2)$ ensures zero mean and unit variance, $\\mu_j = 1$ for all $j$, and $\\tau_j = (4, 4, 2, 2, 1, 1)/4$ for $d = 6$. This configuration creates a hierarchy of variable importance, with diminishing contributions from inputs $x_1$ to $x_6$, and analytically tractable Sobol indices given by $\\sigma_u^2 = \\prod_{j \\in u} \\tau_j^2 \\prod_{j \\notin u} \\mu_j^2$.  \n",
    "\n",
    "---\n",
    "[1] Owen, Art B. 2013. ‘Better Estimation of Small Sobol’ Sensitivity Indices’. ACM Transactions on Modeling and Computer Simulation 23 (2): 1–17. https://doi.org/10.1145/2457459.2457460."
   ]
  },
  {
   "cell_type": "markdown",
   "metadata": {},
   "source": [
    "## Overview 2"
   ]
  },
  {
   "cell_type": "code",
   "execution_count": 22,
   "metadata": {
    "tags": []
   },
   "outputs": [],
   "source": [
    "def get_column_labels(num_columns):\n",
    "    return [f'X{i+1}' for i in range(num_columns)]\n",
    "\n",
    "def owen(m, d, tau_values, mu_values):\n",
    "    num_dimensions = d\n",
    "    tau_values = [1, 1, 0.5, 0.5, 0.25, 0.25]\n",
    "    mu_values = [1, 1, 1, 1, 1, 1]\n",
    "    \n",
    "    num_samples = 2**m\n",
    "    sampler = qmc.Sobol(d, scramble=True, seed=123)\n",
    "    samples = sampler.random_base2(m)\n",
    "    \n",
    "    # Initialize Y with ones and compute product\n",
    "    Y = np.ones(num_samples)\n",
    "    for dim in range(num_dimensions):\n",
    "        g = np.sqrt(12) * (samples[:, dim] - 0.5)\n",
    "        Y *= (mu_values[dim] + tau_values[dim] * g)\n",
    "    \n",
    "    data = pd.DataFrame(samples, columns=get_column_labels(num_dimensions))\n",
    "    data['Y'] = Y\n",
    "    return data\n"
   ]
  },
  {
   "cell_type": "code",
   "execution_count": 23,
   "metadata": {
    "tags": []
   },
   "outputs": [
    {
     "name": "stdout",
     "output_type": "stream",
     "text": [
      "2048 samples generated\n"
     ]
    }
   ],
   "source": [
    "# m = 6 -> 64 samples\n",
    "# m = 7 -> 128 samples\n",
    "# m = 8 -> 256 samples\n",
    "# m = 9 -> 512 samples\n",
    "# m = 10 -> 1024 samples\n",
    "# m = 11 -> 2048 samples \n",
    "# m = 12 -> 4096 samples\n",
    "# m = 13 -> 8192 samples\n",
    "\n",
    "m=11\n",
    "\n",
    "d = 6\n",
    "tau = [1, 1, 0.5, 0.5, 0.25, 0.25]\n",
    "mu = [1, 1, 1, 1, 1, 1]\n",
    "\n",
    "\n",
    "dataframe = owen(m, d, tau, mu)\n",
    "print(len(dataframe), 'samples generated')"
   ]
  },
  {
   "cell_type": "code",
   "execution_count": 24,
   "metadata": {
    "tags": []
   },
   "outputs": [
    {
     "name": "stdout",
     "output_type": "stream",
     "text": [
      "Found a DataFrame\n",
      "\n",
      "============================================================\n",
      "Transforming data to unit hypercube\n",
      "============================================================\n",
      "\n",
      "Feature: X1, Min Value: 0.0001, Max Value: 0.9997\n",
      "Feature: X2, Min Value: 0.0000, Max Value: 0.9999\n",
      "Feature: X3, Min Value: 0.0004, Max Value: 1.0000\n",
      "Feature: X4, Min Value: 0.0004, Max Value: 0.9999\n",
      "Feature: X5, Min Value: 0.0001, Max Value: 0.9997\n",
      "Feature: X6, Min Value: 0.0004, Max Value: 0.9999\n",
      "\n",
      "============================================================\n",
      "Building basis functions\n",
      "============================================================\n",
      "\n",
      "Basis functions of 1 order : 48\n",
      "Basis functions of 2 order : 375\n",
      "Basis functions of 3 order : 1280\n",
      "Basis functions of 4 order : 3840\n",
      "Total basis functions in basis set : 5543\n",
      "Total number of features in basis set is 5543\n",
      "\n",
      "============================================================\n",
      "Running regression analysis\n",
      "============================================================\n",
      "\n",
      "running ARD\n",
      "Iteration: 0     Mean CV Score: 0.3303, Percentage Change: inf%\n",
      "Iteration: 1     Mean CV Score: 0.4967, Percentage Change: 50.40%\n",
      "Iteration: 2     Mean CV Score: 0.5403, Percentage Change: 8.77%\n",
      "Iteration: 3     Mean CV Score: 0.5827, Percentage Change: 7.85%\n",
      "Iteration: 4     Mean CV Score: 0.6247, Percentage Change: 7.22%\n",
      "Iteration: 5     Mean CV Score: 0.6678, Percentage Change: 6.89%\n",
      "Iteration: 6     Mean CV Score: 0.7087, Percentage Change: 6.12%\n",
      "Iteration: 7     Mean CV Score: 0.7487, Percentage Change: 5.65%\n",
      "Iteration: 8     Mean CV Score: 0.7895, Percentage Change: 5.45%\n",
      "Iteration: 9     Mean CV Score: 0.8296, Percentage Change: 5.08%\n",
      "Iteration: 10    Mean CV Score: 0.8394, Percentage Change: 1.18%\n",
      "Iteration: 11    Mean CV Score: 0.8493, Percentage Change: 1.18%\n",
      "Iteration: 12    Mean CV Score: 0.8594, Percentage Change: 1.19%\n",
      "Iteration: 13    Mean CV Score: 0.8693, Percentage Change: 1.15%\n",
      "Iteration: 14    Mean CV Score: 0.8790, Percentage Change: 1.11%\n",
      "Iteration: 15    Mean CV Score: 0.8883, Percentage Change: 1.07%\n",
      "Iteration: 16    Mean CV Score: 0.8981, Percentage Change: 1.10%\n",
      "Iteration: 17    Mean CV Score: 0.9080, Percentage Change: 1.10%\n",
      "Iteration: 18    Mean CV Score: 0.9185, Percentage Change: 1.15%\n",
      "Iteration: 19    Mean CV Score: 0.9282, Percentage Change: 1.07%\n",
      "Iteration: 20    Mean CV Score: 0.9382, Percentage Change: 1.07%\n",
      "Iteration: 21    Mean CV Score: 0.9482, Percentage Change: 1.07%\n",
      "Iteration: 22    Mean CV Score: 0.9512, Percentage Change: 0.32%\n",
      "Iteration: 23    Mean CV Score: 0.9540, Percentage Change: 0.30%\n",
      "Iteration: 24    Mean CV Score: 0.9569, Percentage Change: 0.30%\n",
      "Iteration: 25    Mean CV Score: 0.9597, Percentage Change: 0.29%\n",
      "Iteration: 26    Mean CV Score: 0.9625, Percentage Change: 0.29%\n",
      "Iteration: 27    Mean CV Score: 0.9653, Percentage Change: 0.30%\n",
      "Iteration: 28    Mean CV Score: 0.9680, Percentage Change: 0.28%\n",
      "Iteration: 29    Mean CV Score: 0.9705, Percentage Change: 0.26%\n",
      "Iteration: 30    Mean CV Score: 0.9731, Percentage Change: 0.26%\n",
      "Iteration: 31    Mean CV Score: 0.9754, Percentage Change: 0.24%\n",
      "Iteration: 32    Mean CV Score: 0.9777, Percentage Change: 0.24%\n",
      "Iteration: 33    Mean CV Score: 0.9802, Percentage Change: 0.25%\n",
      "Iteration: 34    Mean CV Score: 0.9824, Percentage Change: 0.23%\n",
      "Iteration: 35    Mean CV Score: 0.9849, Percentage Change: 0.26%\n",
      "Iteration: 36    Mean CV Score: 0.9871, Percentage Change: 0.22%\n",
      "Iteration: 37    Mean CV Score: 0.9897, Percentage Change: 0.26%\n",
      "Iteration: 38    Mean CV Score: 0.9907, Percentage Change: 0.10%\n",
      "Iteration: 39    Mean CV Score: 0.9914, Percentage Change: 0.07%\n",
      "Iteration: 40    Mean CV Score: 0.9921, Percentage Change: 0.07%\n",
      "Iteration: 41    Mean CV Score: 0.9928, Percentage Change: 0.07%\n",
      "Iteration: 42    Mean CV Score: 0.9934, Percentage Change: 0.06%\n",
      "Iteration: 43    Mean CV Score: 0.9941, Percentage Change: 0.07%\n",
      "Iteration: 44    Mean CV Score: 0.9948, Percentage Change: 0.06%\n",
      "Iteration: 45    Mean CV Score: 0.9955, Percentage Change: 0.07%\n",
      "Iteration: 46    Mean CV Score: 0.9961, Percentage Change: 0.06%\n",
      "Iteration: 47    Mean CV Score: 0.9967, Percentage Change: 0.06%\n",
      "Iteration: 48    Mean CV Score: 0.9969, Percentage Change: 0.03%\n",
      "Iteration: 49    Mean CV Score: 0.9972, Percentage Change: 0.03%\n",
      "Iteration: 50    Mean CV Score: 0.9974, Percentage Change: 0.02%\n",
      "Iteration: 51    Mean CV Score: 0.9976, Percentage Change: 0.02%\n",
      "Iteration: 52    Mean CV Score: 0.9978, Percentage Change: 0.02%\n",
      "Iteration: 53    Mean CV Score: 0.9979, Percentage Change: 0.02%\n",
      "Iteration: 54    Mean CV Score: 0.9980, Percentage Change: 0.01%\n",
      "Iteration: 55    Mean CV Score: 0.9981, Percentage Change: 0.01%\n",
      "Iteration: 56    Mean CV Score: 0.9982, Percentage Change: 0.01%\n",
      "Iteration: 57    Mean CV Score: 0.9983, Percentage Change: 0.01%\n",
      "Iteration: 58    Mean CV Score: 0.9983, Percentage Change: 0.01%\n",
      "Iteration: 59    Mean CV Score: 0.9984, Percentage Change: 0.01%\n",
      "Iteration: 60    Mean CV Score: 0.9984, Percentage Change: 0.00%\n",
      "Finished ARD iterations at iteration 61.\n",
      "Number of features in the model: 62\n",
      "Fit Execution Time : 2.648327\n",
      "--\n",
      " \n",
      " Model complete \n",
      " \n",
      "\n",
      "============================================================\n",
      "RS-HDMR model performance statistics\n",
      "============================================================\n",
      "\n",
      "variance of data        : 6.114\n",
      "sum of coefficients^2   : 6.040\n",
      "variance ratio          : 0.988\n",
      "===============================\n",
      "mae error on test set   : 0.055\n",
      "mse error on test set   : 0.008\n",
      "explained variance score: 0.999\n",
      "===============================\n",
      "slope     :  0.9986787118760267\n",
      "r value   :  0.9993597308048854\n",
      "r^2       :  0.998719871554413\n",
      "p value   :  0.0\n",
      "std error :  0.0007904563747214352\n",
      "\n"
     ]
    },
    {
     "data": {
      "image/png": "[encoded data removed]",
      "text/plain": [
       "<Figure size 640x480 with 1 Axes>"
      ]
     },
     "metadata": {},
     "output_type": "display_data"
    },
    {
     "name": "stdout",
     "output_type": "stream",
     "text": [
      "\n",
      "============================================================\n",
      "Running bootstrap resampling 1000 samples for 95.0% CI\n",
      "============================================================\n",
      "\n",
      " |████████████████████████████████████████████████████████████████████████████████████████████████████| 100.0% \n",
      "\n",
      "============================================================\n",
      "Completed bootstrap resampling\n",
      "============================================================\n",
      "\n",
      "\n",
      "============================================================\n",
      "                  Completed all analysis\n",
      "                 ------------------------\n",
      "\n",
      "Through pride we are ever deceiving ourselves. But deep\n",
      "down below the surface of the average conscience a still,\n",
      "small voice says to us, Something is out of tune.  Carl\n",
      "Jung\n",
      "============================================================\n",
      "\n"
     ]
    }
   ],
   "source": [
    "model = rshdmr(dataframe,\n",
    "               polys = [8, 5, 4, 4],\n",
    "               n_iter = 250,\n",
    "#               verbose=True,\n",
    "               method = 'ard_cv',\n",
    "               cv_tol=0.005\n",
    "              )\n",
    "               \n",
    "sob, shap, total = model.run_all() "
   ]
  },
  {
   "cell_type": "code",
   "execution_count": 26,
   "metadata": {},
   "outputs": [
    {
     "data": {
      "application/vnd.microsoft.datawrangler.viewer.v0+json": {
       "columns": [
        {
         "name": "index",
         "rawType": "int64",
         "type": "integer"
        },
        {
         "name": "label",
         "rawType": "object",
         "type": "string"
        },
        {
         "name": "effect",
         "rawType": "float64",
         "type": "float"
        },
        {
         "name": "scaled effect",
         "rawType": "float64",
         "type": "float"
        },
        {
         "name": "lower",
         "rawType": "float64",
         "type": "float"
        },
        {
         "name": "upper",
         "rawType": "float64",
         "type": "float"
        }
       ],
       "conversionMethod": "pd.DataFrame",
       "ref": "50ad02ba-3298-47cd-bf47-e9fca6d1882d",
       "rows": [
        [
         "0",
         "X1",
         "0.34674331951674153",
         "0.34718837217713894",
         "0.34559945091117455",
         "0.34892601488271435"
        ],
        [
         "1",
         "X2",
         "0.3468580416384788",
         "0.3473032415472372",
         "0.34530429539160973",
         "0.3491473262946637"
        ],
        [
         "2",
         "X3",
         "0.119248980212704",
         "0.11940203889590317",
         "0.11816224793386007",
         "0.12045725112138339"
        ],
        [
         "3",
         "X4",
         "0.11950655930255985",
         "0.11965994859417381",
         "0.11838352621706427",
         "0.12072355211644205"
        ],
        [
         "4",
         "X5",
         "0.033048505070540225",
         "0.03309092355209684",
         "0.03230043634715012",
         "0.033729987588805625"
        ],
        [
         "5",
         "X6",
         "0.033312717629275714",
         "0.033355475233450005",
         "0.03238107505984872",
         "0.03418164439603971"
        ]
       ],
       "shape": {
        "columns": 5,
        "rows": 6
       }
      },
      "text/html": [
       "<div>\n",
       "<style scoped>\n",
       "    .dataframe tbody tr th:only-of-type {\n",
       "        vertical-align: middle;\n",
       "    }\n",
       "\n",
       "    .dataframe tbody tr th {\n",
       "        vertical-align: top;\n",
       "    }\n",
       "\n",
       "    .dataframe thead th {\n",
       "        text-align: right;\n",
       "    }\n",
       "</style>\n",
       "<table border=\"1\" class=\"dataframe\">\n",
       "  <thead>\n",
       "    <tr style=\"text-align: right;\">\n",
       "      <th></th>\n",
       "      <th>label</th>\n",
       "      <th>effect</th>\n",
       "      <th>scaled effect</th>\n",
       "      <th>lower</th>\n",
       "      <th>upper</th>\n",
       "    </tr>\n",
       "  </thead>\n",
       "  <tbody>\n",
       "    <tr>\n",
       "      <th>0</th>\n",
       "      <td>X1</td>\n",
       "      <td>0.346743</td>\n",
       "      <td>0.347188</td>\n",
       "      <td>0.345599</td>\n",
       "      <td>0.348926</td>\n",
       "    </tr>\n",
       "    <tr>\n",
       "      <th>1</th>\n",
       "      <td>X2</td>\n",
       "      <td>0.346858</td>\n",
       "      <td>0.347303</td>\n",
       "      <td>0.345304</td>\n",
       "      <td>0.349147</td>\n",
       "    </tr>\n",
       "    <tr>\n",
       "      <th>2</th>\n",
       "      <td>X3</td>\n",
       "      <td>0.119249</td>\n",
       "      <td>0.119402</td>\n",
       "      <td>0.118162</td>\n",
       "      <td>0.120457</td>\n",
       "    </tr>\n",
       "    <tr>\n",
       "      <th>3</th>\n",
       "      <td>X4</td>\n",
       "      <td>0.119507</td>\n",
       "      <td>0.119660</td>\n",
       "      <td>0.118384</td>\n",
       "      <td>0.120724</td>\n",
       "    </tr>\n",
       "    <tr>\n",
       "      <th>4</th>\n",
       "      <td>X5</td>\n",
       "      <td>0.033049</td>\n",
       "      <td>0.033091</td>\n",
       "      <td>0.032300</td>\n",
       "      <td>0.033730</td>\n",
       "    </tr>\n",
       "    <tr>\n",
       "      <th>5</th>\n",
       "      <td>X6</td>\n",
       "      <td>0.033313</td>\n",
       "      <td>0.033355</td>\n",
       "      <td>0.032381</td>\n",
       "      <td>0.034182</td>\n",
       "    </tr>\n",
       "  </tbody>\n",
       "</table>\n",
       "</div>"
      ],
      "text/plain": [
       "  label    effect  scaled effect     lower     upper\n",
       "0    X1  0.346743       0.347188  0.345599  0.348926\n",
       "1    X2  0.346858       0.347303  0.345304  0.349147\n",
       "2    X3  0.119249       0.119402  0.118162  0.120457\n",
       "3    X4  0.119507       0.119660  0.118384  0.120724\n",
       "4    X5  0.033049       0.033091  0.032300  0.033730\n",
       "5    X6  0.033313       0.033355  0.032381  0.034182"
      ]
     },
     "execution_count": 26,
     "metadata": {},
     "output_type": "execute_result"
    }
   ],
   "source": [
    "shap"
   ]
  },
  {
   "cell_type": "code",
   "execution_count": 14,
   "metadata": {},
   "outputs": [
    {
     "name": "stdout",
     "output_type": "stream",
     "text": [
      "Last updated: Thu Apr 03 2025\n",
      "\n",
      "Python implementation: CPython\n",
      "Python version       : 3.12.3\n",
      "IPython version      : 8.25.0\n",
      "\n",
      "pandas    : 2.2.2\n",
      "scipy     : 1.12.0\n",
      "numpy     : 1.26.4\n",
      "matplotlib: 3.8.4\n",
      "shapleyx  : 0.1\n",
      "\n",
      "Watermark: 2.5.0\n",
      "\n"
     ]
    }
   ],
   "source": [
    "%load_ext watermark\n",
    "%watermark -n -u -v -iv -w"
   ]
  },
  {
   "cell_type": "code",
   "execution_count": null,
   "metadata": {},
   "outputs": [],
   "source": []
  },
  {
   "cell_type": "markdown",
   "metadata": {},
   "source": [
    "\n",
    "### Case Study: High-Dimensional Product Function  \n",
    "To validate the proposed RS-HDMR method for estimating Sobol indices and Shapley effects, we apply it to the product function studied by Owen [1], a benchmark designed to stress-test sensitivity estimators in high-dimensional settings. The function is defined as:  \n",
    "\n",
    "$$\n",
    "f(\\mathbf{x}) = \\prod_{j=1}^{d} \\left( \\mu_j + \\tau_j g_j(x_j) \\right), \\quad x_j \\in [0, 1],\n",
    "$$  \n",
    "\n",
    "where $g_j(x_j) = \\sqrt{12}(x_j - 1/2)$ ensures zero mean and unit variance, $\\mu_j = 1$ for all $j$, and $\\tau_j = (4, 4, 2, 2, 1, 1)/4$ for $d = 6$. This configuration creates a hierarchy of variable importance, with diminishing contributions from inputs $x_1$ to $x_6$, and analytically tractable Sobol indices given by $\\sigma_u^2 = \\prod_{j \\in u} \\tau_j^2 \\prod_{j \\notin u} \\mu_j^2$.  \n",
    "\n",
    "\n",
    "[1] Owen, Art B. 2013. ‘Better Estimation of Small Sobol’ Sensitivity Indices’. ACM Transactions on Modeling and Computer Simulation 23 (2): 1–17. https://doi.org/10.1145/2457459.2457460.\n"
   ]
  }
 ],
 "metadata": {
  "kernelspec": {
   "display_name": "base",
   "language": "python",
   "name": "python3"
  },
  "language_info": {
   "codemirror_mode": {
    "name": "ipython",
    "version": 3
   },
   "file_extension": ".py",
   "mimetype": "text/x-python",
   "name": "python",
   "nbconvert_exporter": "python",
   "pygments_lexer": "ipython3",
   "version": "3.12.3"
  }
 },
 "nbformat": 4,
 "nbformat_minor": 4
}
