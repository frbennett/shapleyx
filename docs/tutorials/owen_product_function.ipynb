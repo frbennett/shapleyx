{
 "cells": [
  {
   "cell_type": "markdown",
   "metadata": {},
   "source": [
    "### Case Study: High-Dimensional Product Function  \n",
    "To validate the proposed RS-HDMR method for estimating Sobol indices and Shapley effects, we apply it to the product function studied by Owen [1], a benchmark designed to stress-test sensitivity estimators in high-dimensional settings. The function is defined as:  \n",
    "\n",
    "$$\n",
    "f(\\mathbf{x}) = \\prod_{j=1}^{d} \\left( \\mu_j + \\tau_j g_j(x_j) \\right), \\quad x_j \\in [0, 1],\n",
    "$$  \n",
    "\n",
    "where $g_j(x_j) = \\sqrt{12}(x_j - 1/2)$ ensures zero mean and unit variance, $\\mu_j = 1$ for all $j$, and $\\tau_j = (4, 4, 2, 2, 1, 1)/4$ for $d = 6$. This configuration creates a hierarchy of variable importance, with diminishing contributions from inputs $x_1$ to $x_6$, and analytically tractable Sobol indices given by $\\sigma_u^2 = \\prod_{j \\in u} \\tau_j^2 \\prod_{j \\notin u} \\mu_j^2$.  \n",
    "\n",
    "What makes this function interesting is that the first and second order partial functions of the HDMR decomposition capture only about 83% of the total variance with most of the residual ~17% being accounted for by third and fourth order terms.\n",
    "\n",
    "---\n",
    "[1] Owen, Art B. 2013. ‘Better Estimation of Small Sobol’ Sensitivity Indices’. ACM Transactions on Modeling and Computer Simulation 23 (2): 1–17. https://doi.org/10.1145/2457459.2457460."
   ]
  },
  {
   "cell_type": "code",
   "execution_count": 1,
   "metadata": {
    "tags": []
   },
   "outputs": [
    {
     "name": "stdout",
     "output_type": "stream",
     "text": [
      "Running on ShapleyX v0.2\n"
     ]
    }
   ],
   "source": [
    "# Import dependencies\n",
    "import pandas as pd\n",
    "import numpy as np\n",
    "\n",
    "import math\n",
    "\n",
    "from scipy.spatial import distance \n",
    "from shapleyx import rshdmr\n",
    "\n",
    "from scipy.stats import qmc \n",
    "\n",
    "import matplotlib.pyplot as plt\n",
    "\n",
    "from itertools import combinations\n",
    "\n",
    "from importlib.metadata import version\n",
    "print(f\"Running on ShapleyX v{version('shapleyx')}\")\n",
    "\n"
   ]
  },
  {
   "cell_type": "markdown",
   "metadata": {},
   "source": [
    "##### Helper functions for building quasi-random sample from the Product Function\n",
    "Using Sobol sequence sampling with LMS+shift scrambling"
   ]
  },
  {
   "cell_type": "code",
   "execution_count": 2,
   "metadata": {
    "tags": []
   },
   "outputs": [],
   "source": [
    "def get_column_labels(num_columns):\n",
    "    return [f'X{i+1}' for i in range(num_columns)]\n",
    "\n",
    "def owen(m, d, tau_values, mu_values):\n",
    "    num_dimensions = d\n",
    "    tau_values = [1, 1, 0.5, 0.5, 0.25, 0.25]\n",
    "    mu_values = [1, 1, 1, 1, 1, 1]\n",
    "    \n",
    "    num_samples = 2**m\n",
    "    sampler = qmc.Sobol(d, scramble=True, seed=123)\n",
    "    samples = sampler.random_base2(m)\n",
    "    \n",
    "    # Initialize Y with ones and compute product\n",
    "    Y = np.ones(num_samples)\n",
    "    for dim in range(num_dimensions):\n",
    "        g = np.sqrt(12) * (samples[:, dim] - 0.5)\n",
    "        Y *= (mu_values[dim] + tau_values[dim] * g)\n",
    "    \n",
    "    data = pd.DataFrame(samples, columns=get_column_labels(num_dimensions))\n",
    "    data['Y'] = Y\n",
    "    return data\n"
   ]
  },
  {
   "cell_type": "markdown",
   "metadata": {},
   "source": [
    "##### Using the helper functions, build a dataframe of samples of a designate size\n",
    "The number of samples in the controlled by m where the number of samples is $2^m$. \\\n",
    "The number of variables, $d$ has to be defined as well as the value of $\\tau_j$ and $\\mu_j$"
   ]
  },
  {
   "cell_type": "code",
   "execution_count": 3,
   "metadata": {
    "tags": []
   },
   "outputs": [
    {
     "name": "stdout",
     "output_type": "stream",
     "text": [
      "256 samples generated\n"
     ]
    }
   ],
   "source": [
    "# m = 8 -> 256 samples\n",
    "# m = 9 -> 512 samples\n",
    "# m = 10 -> 1024 samples\n",
    "# m = 11 -> 2048 samples \n",
    "# m = 12 -> 4096 samples\n",
    "# m = 13 -> 8192 samples\n",
    "\n",
    "m=8\n",
    "d = 6\n",
    "tau = [1, 1, 0.5, 0.5, 0.25, 0.25]\n",
    "mu = [1, 1, 1, 1, 1, 1]\n",
    "\n",
    "\n",
    "dataframe = owen(m, d, tau, mu)\n",
    "print(len(dataframe), 'samples generated')"
   ]
  },
  {
   "cell_type": "code",
   "execution_count": 4,
   "metadata": {
    "tags": []
   },
   "outputs": [
    {
     "name": "stdout",
     "output_type": "stream",
     "text": [
      "Found a DataFrame\n",
      "\n",
      "============================================================\n",
      "Transforming data to unit hypercube\n",
      "============================================================\n",
      "\n",
      "Feature: X1, Min Value: 0.0036, Max Value: 0.9980\n",
      "Feature: X2, Min Value: 0.0037, Max Value: 0.9969\n",
      "Feature: X3, Min Value: 0.0020, Max Value: 0.9983\n",
      "Feature: X4, Min Value: 0.0013, Max Value: 0.9995\n",
      "Feature: X5, Min Value: 0.0030, Max Value: 0.9968\n",
      "Feature: X6, Min Value: 0.0031, Max Value: 0.9999\n",
      "\n",
      "============================================================\n",
      "Building basis functions\n",
      "============================================================\n",
      "\n",
      "Basis functions of 1 order : 48\n",
      "Basis functions of 2 order : 540\n",
      "Basis functions of 3 order : 1280\n",
      "Basis functions of 4 order : 3840\n",
      "Total basis functions in basis set : 5708\n",
      "Total number of features in basis set is 5708\n",
      "\n",
      "============================================================\n",
      "Running regression analysis\n",
      "============================================================\n",
      "\n",
      "running ARD\n",
      "Iteration: 0     Mean CV Score: 0.2141, Percentage Change: inf%\n",
      "Iteration: 1     Mean CV Score: 0.3470, Percentage Change: 62.09%\n",
      "Iteration: 2     Mean CV Score: 0.3923, Percentage Change: 13.05%\n",
      "Iteration: 3     Mean CV Score: 0.4339, Percentage Change: 10.61%\n",
      "Iteration: 4     Mean CV Score: 0.4671, Percentage Change: 7.65%\n",
      "Iteration: 5     Mean CV Score: 0.5248, Percentage Change: 12.36%\n",
      "Iteration: 6     Mean CV Score: 0.5833, Percentage Change: 11.13%\n",
      "Iteration: 7     Mean CV Score: 0.6296, Percentage Change: 7.94%\n",
      "Iteration: 8     Mean CV Score: 0.6872, Percentage Change: 9.15%\n",
      "Iteration: 9     Mean CV Score: 0.7368, Percentage Change: 7.22%\n",
      "Iteration: 10    Mean CV Score: 0.7741, Percentage Change: 5.06%\n",
      "Iteration: 11    Mean CV Score: 0.7915, Percentage Change: 2.25%\n",
      "Iteration: 12    Mean CV Score: 0.8095, Percentage Change: 2.28%\n",
      "Iteration: 13    Mean CV Score: 0.8203, Percentage Change: 1.33%\n",
      "Iteration: 14    Mean CV Score: 0.8238, Percentage Change: 0.43%\n",
      "Iteration: 15    Mean CV Score: 0.8377, Percentage Change: 1.68%\n",
      "Iteration: 16    Mean CV Score: 0.8390, Percentage Change: 0.15%\n",
      "Iteration: 17    Mean CV Score: 0.8552, Percentage Change: 1.93%\n",
      "Iteration: 18    Mean CV Score: 0.8638, Percentage Change: 1.00%\n",
      "Iteration: 19    Mean CV Score: 0.8720, Percentage Change: 0.96%\n",
      "Iteration: 20    Mean CV Score: 0.8843, Percentage Change: 1.41%\n",
      "Iteration: 21    Mean CV Score: 0.8859, Percentage Change: 0.18%\n",
      "Iteration: 22    Mean CV Score: 0.8954, Percentage Change: 1.08%\n",
      "Iteration: 23    Mean CV Score: 0.9026, Percentage Change: 0.80%\n",
      "Iteration: 24    Mean CV Score: 0.9081, Percentage Change: 0.61%\n",
      "Iteration: 25    Mean CV Score: 0.9152, Percentage Change: 0.78%\n",
      "Iteration: 26    Mean CV Score: 0.9167, Percentage Change: 0.16%\n",
      "Iteration: 27    Mean CV Score: 0.9223, Percentage Change: 0.61%\n",
      "Iteration: 28    Mean CV Score: 0.9280, Percentage Change: 0.62%\n",
      "Iteration: 29    Mean CV Score: 0.9287, Percentage Change: 0.08%\n",
      "Iteration: 30    Mean CV Score: 0.9328, Percentage Change: 0.44%\n",
      "Iteration: 31    Mean CV Score: 0.9383, Percentage Change: 0.59%\n",
      "Iteration: 32    Mean CV Score: 0.9417, Percentage Change: 0.36%\n",
      "Iteration: 33    Mean CV Score: 0.9452, Percentage Change: 0.38%\n",
      "Iteration: 34    Mean CV Score: 0.9498, Percentage Change: 0.48%\n",
      "Iteration: 35    Mean CV Score: 0.9552, Percentage Change: 0.56%\n",
      "Iteration: 36    Mean CV Score: 0.9590, Percentage Change: 0.40%\n",
      "Iteration: 37    Mean CV Score: 0.9625, Percentage Change: 0.37%\n",
      "Iteration: 38    Mean CV Score: 0.9650, Percentage Change: 0.26%\n",
      "Iteration: 39    Mean CV Score: 0.9703, Percentage Change: 0.54%\n",
      "Iteration: 40    Mean CV Score: 0.9721, Percentage Change: 0.19%\n",
      "Iteration: 41    Mean CV Score: 0.9733, Percentage Change: 0.12%\n",
      "Iteration: 42    Mean CV Score: 0.9762, Percentage Change: 0.30%\n",
      "Iteration: 43    Mean CV Score: 0.9792, Percentage Change: 0.30%\n",
      "Iteration: 44    Mean CV Score: 0.9794, Percentage Change: 0.02%\n",
      "Iteration: 45    Mean CV Score: 0.9803, Percentage Change: 0.09%\n",
      "Iteration: 46    Mean CV Score: 0.9833, Percentage Change: 0.31%\n",
      "Iteration: 47    Mean CV Score: 0.9859, Percentage Change: 0.26%\n",
      "Iteration: 48    Mean CV Score: 0.9864, Percentage Change: 0.05%\n",
      "Iteration: 49    Mean CV Score: 0.9885, Percentage Change: 0.21%\n",
      "Iteration: 50    Mean CV Score: 0.9897, Percentage Change: 0.12%\n",
      "Iteration: 51    Mean CV Score: 0.9908, Percentage Change: 0.11%\n",
      "Iteration: 52    Mean CV Score: 0.9905, Percentage Change: -0.03%\n",
      "Finished ARD iterations at iteration 53.\n",
      "Number of features in the model: 54\n",
      "Fit Execution Time : 1.422977\n",
      "--\n",
      " \n",
      " Model complete \n",
      " \n",
      "\n",
      "============================================================\n",
      "RS-HDMR model performance statistics\n",
      "============================================================\n",
      "\n",
      "variance of data        : 7.271\n",
      "sum of coefficients^2   : 5.864\n",
      "variance ratio          : 0.806\n",
      "===============================\n",
      "mae error on test set   : 0.109\n",
      "mse error on test set   : 0.020\n",
      "explained variance score: 0.997\n",
      "===============================\n",
      "slope     :  0.9964483099144397\n",
      "r value   :  0.9986346446239557\n",
      "r^2       :  0.9972711534432143\n",
      "p value   :  0.0\n",
      "std error :  0.0032705503994364827\n",
      "\n"
     ]
    },
    {
     "data": {
      "image/png": "[encoded data removed]",
      "text/plain": [
       "<Figure size 640x480 with 1 Axes>"
      ]
     },
     "metadata": {},
     "output_type": "display_data"
    },
    {
     "name": "stdout",
     "output_type": "stream",
     "text": [
      "\n",
      "============================================================\n",
      "Running bootstrap resampling 1000 samples for 95.0% CI\n",
      "============================================================\n",
      "\n",
      " |████████████████████████████████████████████████████████████████████████████████████████████████████| 100.0% \n",
      "\n",
      "============================================================\n",
      "Completed bootstrap resampling\n",
      "============================================================\n",
      "\n",
      "\n",
      "============================================================\n",
      "                  Completed all analysis\n",
      "                 ------------------------\n",
      "\n",
      "Miracles come in moments. Be ready and willing.  Wayne\n",
      "Dyer\n",
      "============================================================\n",
      "\n"
     ]
    }
   ],
   "source": [
    "model = rshdmr(dataframe,\n",
    "               polys = [8, 6, 4, 4], \n",
    "               n_iter = 100,\n",
    "#               verbose=True,\n",
    "               method = 'ard_cv',\n",
    "               cv_tol=0.005\n",
    "              )\n",
    "               \n",
    "sob, shap, total = model.run_all() "
   ]
  },
  {
   "cell_type": "code",
   "execution_count": 5,
   "metadata": {},
   "outputs": [],
   "source": [
    "def powerset(input_list):\n",
    "    \"\"\"Return all non-empty members of the powerset.\"\"\"\n",
    "    all_combinations = []\n",
    "    for r in range(1, len(input_list) + 1):  # Start at 1 instead of 0\n",
    "        all_combinations.extend(\n",
    "            [list(comb) for comb in combinations(input_list, r)]\n",
    "        )\n",
    "    return all_combinations\n",
    "\n",
    "def sigma_u_squared(u, tau, mu):\n",
    "    product_tau = math.prod(tau[j]**2 for j in u)\n",
    "    n = len(tau)\n",
    "    product_mu = math.prod(mu[j]**2 for j in range(n) if j not in u)\n",
    "    return product_tau * product_mu\n"
   ]
  },
  {
   "cell_type": "code",
   "execution_count": 6,
   "metadata": {},
   "outputs": [],
   "source": [
    "shapleys = [0] * 6\n",
    "myset = list(range(6)) \n",
    "total_var = 0\n",
    "\n",
    "my_powerset = powerset(myset)\n",
    "for subset in my_powerset:\n",
    "    sig_squared = sigma_u_squared(subset, tau, mu)\n",
    "#    print(f\"Subset: {subset}, Sigma_u^2: {sig_squared}\")\n",
    "    for i in subset:\n",
    "        shapleys[i] += sig_squared / len(subset)\n",
    "        total_var += sig_squared / len(subset)\n",
    "\n",
    "shap['analytical'] = np.array(shapleys)/total_var"
   ]
  },
  {
   "cell_type": "code",
   "execution_count": 7,
   "metadata": {},
   "outputs": [],
   "source": [
    "df = pd.DataFrame()\n",
    "df['Category'] = shap['label']\n",
    "df['Value1'] = shap['scaled effect']\n",
    "df['Value2'] = shap['analytical']\n",
    "df['Lower'] = shap['lower']\n",
    "df['Upper'] = shap['upper']"
   ]
  },
  {
   "cell_type": "code",
   "execution_count": 8,
   "metadata": {},
   "outputs": [
    {
     "data": {
      "image/png": "[encoded data removed]",
      "text/plain": [
       "<Figure size 1000x600 with 1 Axes>"
      ]
     },
     "metadata": {},
     "output_type": "display_data"
    }
   ],
   "source": [
    "\n",
    "\n",
    "# Set up the plot\n",
    "fig, ax = plt.subplots(figsize=(10, 6))\n",
    "\n",
    "# Set the width of each bar\n",
    "bar_width = 0.35\n",
    "\n",
    "# Positions of the bars on the x-axis\n",
    "x = np.arange(len(df['Category']))\n",
    "\n",
    "# Plot the bars\n",
    "bars1 = ax.bar(x - bar_width/2, df['Value1'], bar_width, \n",
    "               label='Value 1', yerr=[df['Value1']-df['Lower'], df['Upper']-df['Value1']],\n",
    "               capsize=5)\n",
    "\n",
    "bars2 = ax.bar(x + bar_width/2, df['Value2'], bar_width, \n",
    "               label='Value 2')\n",
    "\n",
    "# Add labels, title, and legend\n",
    "ax.set_xlabel('Categories')\n",
    "ax.set_ylabel('Values')\n",
    "ax.set_title('Grouped Bar Chart with Error Bars')\n",
    "ax.set_xticks(x)\n",
    "ax.set_xticklabels(df['Category'])\n",
    "ax.legend()\n",
    "\n",
    "# Show the plot\n",
    "plt.tight_layout()\n",
    "plt.show()"
   ]
  },
  {
   "cell_type": "code",
   "execution_count": 9,
   "metadata": {},
   "outputs": [
    {
     "name": "stdout",
     "output_type": "stream",
     "text": [
      "Last updated: Tue Apr 08 2025\n",
      "\n",
      "Python implementation: CPython\n",
      "Python version       : 3.12.3\n",
      "IPython version      : 8.25.0\n",
      "\n",
      "pandas    : 2.2.2\n",
      "matplotlib: 3.8.4\n",
      "shapleyx  : 0.2\n",
      "numpy     : 1.26.4\n",
      "__main__  : <function version at 0x000001F5736DEF20>\n",
      "scipy     : 1.12.0\n",
      "\n",
      "Watermark: 2.5.0\n",
      "\n"
     ]
    }
   ],
   "source": [
    "%load_ext watermark\n",
    "%watermark -n -u -v -iv -w"
   ]
  },
  {
   "cell_type": "code",
   "execution_count": null,
   "metadata": {},
   "outputs": [],
   "source": []
  }
 ],
 "metadata": {
  "kernelspec": {
   "display_name": "base",
   "language": "python",
   "name": "python3"
  },
  "language_info": {
   "codemirror_mode": {
    "name": "ipython",
    "version": 3
   },
   "file_extension": ".py",
   "mimetype": "text/x-python",
   "name": "python",
   "nbconvert_exporter": "python",
   "pygments_lexer": "ipython3",
   "version": "3.12.3"
  }
 },
 "nbformat": 4,
 "nbformat_minor": 4
}
